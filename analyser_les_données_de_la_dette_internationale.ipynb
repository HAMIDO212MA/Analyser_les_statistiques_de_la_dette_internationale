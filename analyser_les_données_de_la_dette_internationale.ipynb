{
  "nbformat": 4,
  "nbformat_minor": 0,
  "metadata": {
    "colab": {
      "provenance": []
    },
    "kernelspec": {
      "name": "python3",
      "display_name": "Python 3"
    },
    "language_info": {
      "name": "python"
    }
  },
  "cells": [
    {
      "cell_type": "markdown",
      "source": [
        "# **Analyser les données de la dette internationale** - by AHMED"
      ],
      "metadata": {
        "id": "RNYjzEEpxtBq"
      }
    },
    {
      "cell_type": "markdown",
      "source": [
        "# Importation des données :"
      ],
      "metadata": {
        "id": "AGW4K7kixWI_"
      }
    },
    {
      "cell_type": "code",
      "source": [
        "import pandas as pd"
      ],
      "metadata": {
        "id": "bckEEARxyDK4"
      },
      "execution_count": 1,
      "outputs": []
    },
    {
      "cell_type": "code",
      "source": [
        "dette_data = pd.read_csv('international_debt.csv')"
      ],
      "metadata": {
        "id": "VOkevcGoyG5E"
      },
      "execution_count": 2,
      "outputs": []
    },
    {
      "cell_type": "markdown",
      "source": [
        "# Exploration des données :"
      ],
      "metadata": {
        "id": "OKiMhCTKxaqR"
      }
    },
    {
      "cell_type": "code",
      "source": [
        "dette_data.head()"
      ],
      "metadata": {
        "colab": {
          "base_uri": "https://localhost:8080/",
          "height": 206
        },
        "id": "h53qeOWJyPa-",
        "outputId": "872efd49-09ae-4acc-fdc2-9d3ac21421e0"
      },
      "execution_count": 3,
      "outputs": [
        {
          "output_type": "execute_result",
          "data": {
            "text/plain": [
              "  country_name country_code  \\\n",
              "0  Afghanistan          AFG   \n",
              "1  Afghanistan          AFG   \n",
              "2  Afghanistan          AFG   \n",
              "3  Afghanistan          AFG   \n",
              "4  Afghanistan          AFG   \n",
              "\n",
              "                                      indicator_name  indicator_code  \\\n",
              "0  Disbursements on external debt, long-term (DIS...  DT.DIS.DLXF.CD   \n",
              "1  Interest payments on external debt, long-term ...  DT.INT.DLXF.CD   \n",
              "2                  PPG, bilateral (AMT, current US$)  DT.AMT.BLAT.CD   \n",
              "3                  PPG, bilateral (DIS, current US$)  DT.DIS.BLAT.CD   \n",
              "4                  PPG, bilateral (INT, current US$)  DT.INT.BLAT.CD   \n",
              "\n",
              "         debt  \n",
              "0  72894453.7  \n",
              "1  53239440.1  \n",
              "2  61739336.9  \n",
              "3  49114729.4  \n",
              "4  39903620.1  "
            ],
            "text/html": [
              "\n",
              "  <div id=\"df-c1047c22-35ce-4b2d-80be-cff58c0404e6\" class=\"colab-df-container\">\n",
              "    <div>\n",
              "<style scoped>\n",
              "    .dataframe tbody tr th:only-of-type {\n",
              "        vertical-align: middle;\n",
              "    }\n",
              "\n",
              "    .dataframe tbody tr th {\n",
              "        vertical-align: top;\n",
              "    }\n",
              "\n",
              "    .dataframe thead th {\n",
              "        text-align: right;\n",
              "    }\n",
              "</style>\n",
              "<table border=\"1\" class=\"dataframe\">\n",
              "  <thead>\n",
              "    <tr style=\"text-align: right;\">\n",
              "      <th></th>\n",
              "      <th>country_name</th>\n",
              "      <th>country_code</th>\n",
              "      <th>indicator_name</th>\n",
              "      <th>indicator_code</th>\n",
              "      <th>debt</th>\n",
              "    </tr>\n",
              "  </thead>\n",
              "  <tbody>\n",
              "    <tr>\n",
              "      <th>0</th>\n",
              "      <td>Afghanistan</td>\n",
              "      <td>AFG</td>\n",
              "      <td>Disbursements on external debt, long-term (DIS...</td>\n",
              "      <td>DT.DIS.DLXF.CD</td>\n",
              "      <td>72894453.7</td>\n",
              "    </tr>\n",
              "    <tr>\n",
              "      <th>1</th>\n",
              "      <td>Afghanistan</td>\n",
              "      <td>AFG</td>\n",
              "      <td>Interest payments on external debt, long-term ...</td>\n",
              "      <td>DT.INT.DLXF.CD</td>\n",
              "      <td>53239440.1</td>\n",
              "    </tr>\n",
              "    <tr>\n",
              "      <th>2</th>\n",
              "      <td>Afghanistan</td>\n",
              "      <td>AFG</td>\n",
              "      <td>PPG, bilateral (AMT, current US$)</td>\n",
              "      <td>DT.AMT.BLAT.CD</td>\n",
              "      <td>61739336.9</td>\n",
              "    </tr>\n",
              "    <tr>\n",
              "      <th>3</th>\n",
              "      <td>Afghanistan</td>\n",
              "      <td>AFG</td>\n",
              "      <td>PPG, bilateral (DIS, current US$)</td>\n",
              "      <td>DT.DIS.BLAT.CD</td>\n",
              "      <td>49114729.4</td>\n",
              "    </tr>\n",
              "    <tr>\n",
              "      <th>4</th>\n",
              "      <td>Afghanistan</td>\n",
              "      <td>AFG</td>\n",
              "      <td>PPG, bilateral (INT, current US$)</td>\n",
              "      <td>DT.INT.BLAT.CD</td>\n",
              "      <td>39903620.1</td>\n",
              "    </tr>\n",
              "  </tbody>\n",
              "</table>\n",
              "</div>\n",
              "    <div class=\"colab-df-buttons\">\n",
              "\n",
              "  <div class=\"colab-df-container\">\n",
              "    <button class=\"colab-df-convert\" onclick=\"convertToInteractive('df-c1047c22-35ce-4b2d-80be-cff58c0404e6')\"\n",
              "            title=\"Convert this dataframe to an interactive table.\"\n",
              "            style=\"display:none;\">\n",
              "\n",
              "  <svg xmlns=\"http://www.w3.org/2000/svg\" height=\"24px\" viewBox=\"0 -960 960 960\">\n",
              "    <path d=\"M120-120v-720h720v720H120Zm60-500h600v-160H180v160Zm220 220h160v-160H400v160Zm0 220h160v-160H400v160ZM180-400h160v-160H180v160Zm440 0h160v-160H620v160ZM180-180h160v-160H180v160Zm440 0h160v-160H620v160Z\"/>\n",
              "  </svg>\n",
              "    </button>\n",
              "\n",
              "  <style>\n",
              "    .colab-df-container {\n",
              "      display:flex;\n",
              "      gap: 12px;\n",
              "    }\n",
              "\n",
              "    .colab-df-convert {\n",
              "      background-color: #E8F0FE;\n",
              "      border: none;\n",
              "      border-radius: 50%;\n",
              "      cursor: pointer;\n",
              "      display: none;\n",
              "      fill: #1967D2;\n",
              "      height: 32px;\n",
              "      padding: 0 0 0 0;\n",
              "      width: 32px;\n",
              "    }\n",
              "\n",
              "    .colab-df-convert:hover {\n",
              "      background-color: #E2EBFA;\n",
              "      box-shadow: 0px 1px 2px rgba(60, 64, 67, 0.3), 0px 1px 3px 1px rgba(60, 64, 67, 0.15);\n",
              "      fill: #174EA6;\n",
              "    }\n",
              "\n",
              "    .colab-df-buttons div {\n",
              "      margin-bottom: 4px;\n",
              "    }\n",
              "\n",
              "    [theme=dark] .colab-df-convert {\n",
              "      background-color: #3B4455;\n",
              "      fill: #D2E3FC;\n",
              "    }\n",
              "\n",
              "    [theme=dark] .colab-df-convert:hover {\n",
              "      background-color: #434B5C;\n",
              "      box-shadow: 0px 1px 3px 1px rgba(0, 0, 0, 0.15);\n",
              "      filter: drop-shadow(0px 1px 2px rgba(0, 0, 0, 0.3));\n",
              "      fill: #FFFFFF;\n",
              "    }\n",
              "  </style>\n",
              "\n",
              "    <script>\n",
              "      const buttonEl =\n",
              "        document.querySelector('#df-c1047c22-35ce-4b2d-80be-cff58c0404e6 button.colab-df-convert');\n",
              "      buttonEl.style.display =\n",
              "        google.colab.kernel.accessAllowed ? 'block' : 'none';\n",
              "\n",
              "      async function convertToInteractive(key) {\n",
              "        const element = document.querySelector('#df-c1047c22-35ce-4b2d-80be-cff58c0404e6');\n",
              "        const dataTable =\n",
              "          await google.colab.kernel.invokeFunction('convertToInteractive',\n",
              "                                                    [key], {});\n",
              "        if (!dataTable) return;\n",
              "\n",
              "        const docLinkHtml = 'Like what you see? Visit the ' +\n",
              "          '<a target=\"_blank\" href=https://colab.research.google.com/notebooks/data_table.ipynb>data table notebook</a>'\n",
              "          + ' to learn more about interactive tables.';\n",
              "        element.innerHTML = '';\n",
              "        dataTable['output_type'] = 'display_data';\n",
              "        await google.colab.output.renderOutput(dataTable, element);\n",
              "        const docLink = document.createElement('div');\n",
              "        docLink.innerHTML = docLinkHtml;\n",
              "        element.appendChild(docLink);\n",
              "      }\n",
              "    </script>\n",
              "  </div>\n",
              "\n",
              "\n",
              "<div id=\"df-4476bca1-2495-4328-a5a6-98d267dab008\">\n",
              "  <button class=\"colab-df-quickchart\" onclick=\"quickchart('df-4476bca1-2495-4328-a5a6-98d267dab008')\"\n",
              "            title=\"Suggest charts\"\n",
              "            style=\"display:none;\">\n",
              "\n",
              "<svg xmlns=\"http://www.w3.org/2000/svg\" height=\"24px\"viewBox=\"0 0 24 24\"\n",
              "     width=\"24px\">\n",
              "    <g>\n",
              "        <path d=\"M19 3H5c-1.1 0-2 .9-2 2v14c0 1.1.9 2 2 2h14c1.1 0 2-.9 2-2V5c0-1.1-.9-2-2-2zM9 17H7v-7h2v7zm4 0h-2V7h2v10zm4 0h-2v-4h2v4z\"/>\n",
              "    </g>\n",
              "</svg>\n",
              "  </button>\n",
              "\n",
              "<style>\n",
              "  .colab-df-quickchart {\n",
              "      --bg-color: #E8F0FE;\n",
              "      --fill-color: #1967D2;\n",
              "      --hover-bg-color: #E2EBFA;\n",
              "      --hover-fill-color: #174EA6;\n",
              "      --disabled-fill-color: #AAA;\n",
              "      --disabled-bg-color: #DDD;\n",
              "  }\n",
              "\n",
              "  [theme=dark] .colab-df-quickchart {\n",
              "      --bg-color: #3B4455;\n",
              "      --fill-color: #D2E3FC;\n",
              "      --hover-bg-color: #434B5C;\n",
              "      --hover-fill-color: #FFFFFF;\n",
              "      --disabled-bg-color: #3B4455;\n",
              "      --disabled-fill-color: #666;\n",
              "  }\n",
              "\n",
              "  .colab-df-quickchart {\n",
              "    background-color: var(--bg-color);\n",
              "    border: none;\n",
              "    border-radius: 50%;\n",
              "    cursor: pointer;\n",
              "    display: none;\n",
              "    fill: var(--fill-color);\n",
              "    height: 32px;\n",
              "    padding: 0;\n",
              "    width: 32px;\n",
              "  }\n",
              "\n",
              "  .colab-df-quickchart:hover {\n",
              "    background-color: var(--hover-bg-color);\n",
              "    box-shadow: 0 1px 2px rgba(60, 64, 67, 0.3), 0 1px 3px 1px rgba(60, 64, 67, 0.15);\n",
              "    fill: var(--button-hover-fill-color);\n",
              "  }\n",
              "\n",
              "  .colab-df-quickchart-complete:disabled,\n",
              "  .colab-df-quickchart-complete:disabled:hover {\n",
              "    background-color: var(--disabled-bg-color);\n",
              "    fill: var(--disabled-fill-color);\n",
              "    box-shadow: none;\n",
              "  }\n",
              "\n",
              "  .colab-df-spinner {\n",
              "    border: 2px solid var(--fill-color);\n",
              "    border-color: transparent;\n",
              "    border-bottom-color: var(--fill-color);\n",
              "    animation:\n",
              "      spin 1s steps(1) infinite;\n",
              "  }\n",
              "\n",
              "  @keyframes spin {\n",
              "    0% {\n",
              "      border-color: transparent;\n",
              "      border-bottom-color: var(--fill-color);\n",
              "      border-left-color: var(--fill-color);\n",
              "    }\n",
              "    20% {\n",
              "      border-color: transparent;\n",
              "      border-left-color: var(--fill-color);\n",
              "      border-top-color: var(--fill-color);\n",
              "    }\n",
              "    30% {\n",
              "      border-color: transparent;\n",
              "      border-left-color: var(--fill-color);\n",
              "      border-top-color: var(--fill-color);\n",
              "      border-right-color: var(--fill-color);\n",
              "    }\n",
              "    40% {\n",
              "      border-color: transparent;\n",
              "      border-right-color: var(--fill-color);\n",
              "      border-top-color: var(--fill-color);\n",
              "    }\n",
              "    60% {\n",
              "      border-color: transparent;\n",
              "      border-right-color: var(--fill-color);\n",
              "    }\n",
              "    80% {\n",
              "      border-color: transparent;\n",
              "      border-right-color: var(--fill-color);\n",
              "      border-bottom-color: var(--fill-color);\n",
              "    }\n",
              "    90% {\n",
              "      border-color: transparent;\n",
              "      border-bottom-color: var(--fill-color);\n",
              "    }\n",
              "  }\n",
              "</style>\n",
              "\n",
              "  <script>\n",
              "    async function quickchart(key) {\n",
              "      const quickchartButtonEl =\n",
              "        document.querySelector('#' + key + ' button');\n",
              "      quickchartButtonEl.disabled = true;  // To prevent multiple clicks.\n",
              "      quickchartButtonEl.classList.add('colab-df-spinner');\n",
              "      try {\n",
              "        const charts = await google.colab.kernel.invokeFunction(\n",
              "            'suggestCharts', [key], {});\n",
              "      } catch (error) {\n",
              "        console.error('Error during call to suggestCharts:', error);\n",
              "      }\n",
              "      quickchartButtonEl.classList.remove('colab-df-spinner');\n",
              "      quickchartButtonEl.classList.add('colab-df-quickchart-complete');\n",
              "    }\n",
              "    (() => {\n",
              "      let quickchartButtonEl =\n",
              "        document.querySelector('#df-4476bca1-2495-4328-a5a6-98d267dab008 button');\n",
              "      quickchartButtonEl.style.display =\n",
              "        google.colab.kernel.accessAllowed ? 'block' : 'none';\n",
              "    })();\n",
              "  </script>\n",
              "</div>\n",
              "\n",
              "    </div>\n",
              "  </div>\n"
            ],
            "application/vnd.google.colaboratory.intrinsic+json": {
              "type": "dataframe",
              "variable_name": "dette_data",
              "summary": "{\n  \"name\": \"dette_data\",\n  \"rows\": 2357,\n  \"fields\": [\n    {\n      \"column\": \"country_name\",\n      \"properties\": {\n        \"dtype\": \"category\",\n        \"num_unique_values\": 124,\n        \"samples\": [\n          \"Cabo Verde\",\n          \"Gambia, The\",\n          \"El Salvador\"\n        ],\n        \"semantic_type\": \"\",\n        \"description\": \"\"\n      }\n    },\n    {\n      \"column\": \"country_code\",\n      \"properties\": {\n        \"dtype\": \"category\",\n        \"num_unique_values\": 124,\n        \"samples\": [\n          \"CPV\",\n          \"GMB\",\n          \"SLV\"\n        ],\n        \"semantic_type\": \"\",\n        \"description\": \"\"\n      }\n    },\n    {\n      \"column\": \"indicator_name\",\n      \"properties\": {\n        \"dtype\": \"category\",\n        \"num_unique_values\": 25,\n        \"samples\": [\n          \"PPG, official creditors (AMT, current US$)\",\n          \"PPG, commercial banks (DIS, current US$)\",\n          \"Disbursements on external debt, long-term (DIS, current US$)\"\n        ],\n        \"semantic_type\": \"\",\n        \"description\": \"\"\n      }\n    },\n    {\n      \"column\": \"indicator_code\",\n      \"properties\": {\n        \"dtype\": \"category\",\n        \"num_unique_values\": 25,\n        \"samples\": [\n          \"DT.AMT.OFFT.CD\",\n          \"DT.DIS.PCBK.CD\",\n          \"DT.DIS.DLXF.CD\"\n        ],\n        \"semantic_type\": \"\",\n        \"description\": \"\"\n      }\n    },\n    {\n      \"column\": \"debt\",\n      \"properties\": {\n        \"dtype\": \"number\",\n        \"std\": 5226771196.13104,\n        \"min\": 0.0,\n        \"max\": 96218620835.7,\n        \"num_unique_values\": 2063,\n        \"samples\": [\n          127450152.9,\n          124285000.0,\n          62404132.3\n        ],\n        \"semantic_type\": \"\",\n        \"description\": \"\"\n      }\n    }\n  ]\n}"
            }
          },
          "metadata": {},
          "execution_count": 3
        }
      ]
    },
    {
      "cell_type": "code",
      "source": [
        "dette_data.info()"
      ],
      "metadata": {
        "colab": {
          "base_uri": "https://localhost:8080/"
        },
        "id": "JVCPFgruyTZD",
        "outputId": "15e1549f-1e09-4262-dda6-d494a97ed1d4"
      },
      "execution_count": 4,
      "outputs": [
        {
          "output_type": "stream",
          "name": "stdout",
          "text": [
            "<class 'pandas.core.frame.DataFrame'>\n",
            "RangeIndex: 2357 entries, 0 to 2356\n",
            "Data columns (total 5 columns):\n",
            " #   Column          Non-Null Count  Dtype  \n",
            "---  ------          --------------  -----  \n",
            " 0   country_name    2357 non-null   object \n",
            " 1   country_code    2357 non-null   object \n",
            " 2   indicator_name  2357 non-null   object \n",
            " 3   indicator_code  2357 non-null   object \n",
            " 4   debt            2357 non-null   float64\n",
            "dtypes: float64(1), object(4)\n",
            "memory usage: 92.2+ KB\n"
          ]
        }
      ]
    },
    {
      "cell_type": "code",
      "source": [
        "dette_data.isnull().sum()"
      ],
      "metadata": {
        "colab": {
          "base_uri": "https://localhost:8080/",
          "height": 241
        },
        "id": "FGZTngQ-yZwG",
        "outputId": "ec14a1f5-5acc-45fe-e5d1-7cb8388a2e9a"
      },
      "execution_count": 5,
      "outputs": [
        {
          "output_type": "execute_result",
          "data": {
            "text/plain": [
              "country_name      0\n",
              "country_code      0\n",
              "indicator_name    0\n",
              "indicator_code    0\n",
              "debt              0\n",
              "dtype: int64"
            ],
            "text/html": [
              "<div>\n",
              "<style scoped>\n",
              "    .dataframe tbody tr th:only-of-type {\n",
              "        vertical-align: middle;\n",
              "    }\n",
              "\n",
              "    .dataframe tbody tr th {\n",
              "        vertical-align: top;\n",
              "    }\n",
              "\n",
              "    .dataframe thead th {\n",
              "        text-align: right;\n",
              "    }\n",
              "</style>\n",
              "<table border=\"1\" class=\"dataframe\">\n",
              "  <thead>\n",
              "    <tr style=\"text-align: right;\">\n",
              "      <th></th>\n",
              "      <th>0</th>\n",
              "    </tr>\n",
              "  </thead>\n",
              "  <tbody>\n",
              "    <tr>\n",
              "      <th>country_name</th>\n",
              "      <td>0</td>\n",
              "    </tr>\n",
              "    <tr>\n",
              "      <th>country_code</th>\n",
              "      <td>0</td>\n",
              "    </tr>\n",
              "    <tr>\n",
              "      <th>indicator_name</th>\n",
              "      <td>0</td>\n",
              "    </tr>\n",
              "    <tr>\n",
              "      <th>indicator_code</th>\n",
              "      <td>0</td>\n",
              "    </tr>\n",
              "    <tr>\n",
              "      <th>debt</th>\n",
              "      <td>0</td>\n",
              "    </tr>\n",
              "  </tbody>\n",
              "</table>\n",
              "</div><br><label><b>dtype:</b> int64</label>"
            ]
          },
          "metadata": {},
          "execution_count": 5
        }
      ]
    },
    {
      "cell_type": "code",
      "source": [
        "dette_data.duplicated().sum()"
      ],
      "metadata": {
        "colab": {
          "base_uri": "https://localhost:8080/"
        },
        "id": "nvjMF7MAye4p",
        "outputId": "cda524a6-d626-4024-e79d-304c57cf7cbc"
      },
      "execution_count": 6,
      "outputs": [
        {
          "output_type": "execute_result",
          "data": {
            "text/plain": [
              "0"
            ]
          },
          "metadata": {},
          "execution_count": 6
        }
      ]
    },
    {
      "cell_type": "markdown",
      "source": [
        "# Nettoyage des données :"
      ],
      "metadata": {
        "id": "n72gOuM2xfDS"
      }
    },
    {
      "cell_type": "code",
      "source": [],
      "metadata": {
        "id": "qVw5JEwDylwO"
      },
      "execution_count": null,
      "outputs": []
    },
    {
      "cell_type": "markdown",
      "source": [
        "# Analyse des données :"
      ],
      "metadata": {
        "id": "kIzwQaelxoXy"
      }
    },
    {
      "cell_type": "markdown",
      "source": [
        "## Pays distincts :"
      ],
      "metadata": {
        "id": "U0snbdUcy0lh"
      }
    },
    {
      "cell_type": "markdown",
      "source": [
        "nombre de pays :"
      ],
      "metadata": {
        "id": "agP2qXSNzDyr"
      }
    },
    {
      "cell_type": "code",
      "source": [
        "dette_data['country_name'].nunique()"
      ],
      "metadata": {
        "colab": {
          "base_uri": "https://localhost:8080/"
        },
        "id": "xZ4yKVQSy4aD",
        "outputId": "362b59e7-0a62-413d-b4b0-9ae3456b2032"
      },
      "execution_count": 8,
      "outputs": [
        {
          "output_type": "execute_result",
          "data": {
            "text/plain": [
              "124"
            ]
          },
          "metadata": {},
          "execution_count": 8
        }
      ]
    },
    {
      "cell_type": "markdown",
      "source": [
        "les pays sont présents dans notre jeu de données:"
      ],
      "metadata": {
        "id": "oX5ZUdkzzPia"
      }
    },
    {
      "cell_type": "code",
      "source": [
        "dette_data['country_name'].unique()"
      ],
      "metadata": {
        "colab": {
          "base_uri": "https://localhost:8080/"
        },
        "id": "WQ--qJdszY50",
        "outputId": "684d4e3d-483d-4081-ca68-a0c562b6930d"
      },
      "execution_count": 9,
      "outputs": [
        {
          "output_type": "execute_result",
          "data": {
            "text/plain": [
              "array(['Afghanistan', 'Albania', 'Algeria', 'Angola', 'Armenia',\n",
              "       'Azerbaijan', 'Bangladesh', 'Belarus', 'Belize', 'Benin', 'Bhutan',\n",
              "       'Bolivia', 'Bosnia and Herzegovina', 'Botswana', 'Brazil',\n",
              "       'Bulgaria', 'Burkina Faso', 'Burundi', 'Cabo Verde', 'Cambodia',\n",
              "       'Cameroon', 'Central African Republic', 'Chad', 'China',\n",
              "       'Colombia', 'Comoros', 'Congo, Dem. Rep.', 'Congo, Rep.',\n",
              "       'Costa Rica', \"Cote d'Ivoire\", 'Djibouti', 'Dominica',\n",
              "       'Dominican Republic', 'Georgia', 'Ecuador', 'Egypt, Arab Rep.',\n",
              "       'El Salvador', 'Eritrea', 'Eswatini', 'Ethiopia', 'Fiji', 'Gabon',\n",
              "       'Gambia, The', 'Ghana', 'Grenada', 'Guatemala', 'Guinea',\n",
              "       'Guinea-Bissau', 'Guyana', 'Haiti', 'Honduras', 'IDA only',\n",
              "       'India', 'Indonesia', 'Iran, Islamic Rep.', 'Jamaica', 'Jordan',\n",
              "       'Kazakhstan', 'Kenya', 'Kosovo', 'Kyrgyz Republic', 'Lao PDR',\n",
              "       'Lesotho', 'Least developed countries: UN classification',\n",
              "       'Lebanon', 'Liberia', 'Macedonia, FYR', 'Madagascar', 'Malawi',\n",
              "       'Maldives', 'Mali', 'Mauritania', 'Mauritius', 'Mexico',\n",
              "       'Mongolia', 'Moldova', 'Montenegro', 'Morocco', 'Mozambique',\n",
              "       'Myanmar', 'Nepal', 'Nicaragua', 'Niger', 'Nigeria', 'Pakistan',\n",
              "       'Papua New Guinea', 'Paraguay', 'Peru', 'Philippines', 'Romania',\n",
              "       'Russian Federation', 'Rwanda', 'Samoa', 'Sao Tome and Principe',\n",
              "       'Senegal', 'Serbia', 'Sierra Leone', 'Solomon Islands', 'Somalia',\n",
              "       'South Africa', 'South Asia', 'Sri Lanka', 'St. Lucia',\n",
              "       'St. Vincent and the Grenadines', 'Sudan', 'Syrian Arab Republic',\n",
              "       'Tajikistan', 'Tanzania', 'Thailand', 'Timor-Leste', 'Togo',\n",
              "       'Tonga', 'Tunisia', 'Turkey', 'Turkmenistan', 'Uganda', 'Ukraine',\n",
              "       'Uzbekistan', 'Vanuatu', 'Venezuela, RB', 'Vietnam', 'Yemen, Rep.',\n",
              "       'Zambia', 'Zimbabwe'], dtype=object)"
            ]
          },
          "metadata": {},
          "execution_count": 9
        }
      ]
    },
    {
      "cell_type": "markdown",
      "source": [
        "##  les types d'indicateurs de dette disponibles dans le jeu de données :"
      ],
      "metadata": {
        "id": "i-nvvh8Ozieo"
      }
    },
    {
      "cell_type": "markdown",
      "source": [
        "Nombre d'indicateurs de dette distincts"
      ],
      "metadata": {
        "id": "30-Ar4XnzzWf"
      }
    },
    {
      "cell_type": "code",
      "source": [
        "dette_data['indicator_name'].nunique()"
      ],
      "metadata": {
        "colab": {
          "base_uri": "https://localhost:8080/"
        },
        "id": "tLfOvTXMz06X",
        "outputId": "8b9a723e-e0b1-41e9-bfec-31eec9a21fe5"
      },
      "execution_count": 11,
      "outputs": [
        {
          "output_type": "execute_result",
          "data": {
            "text/plain": [
              "25"
            ]
          },
          "metadata": {},
          "execution_count": 11
        }
      ]
    },
    {
      "cell_type": "markdown",
      "source": [
        "les indicateurs :"
      ],
      "metadata": {
        "id": "qu9OEFm2z5VJ"
      }
    },
    {
      "cell_type": "code",
      "source": [
        "dette_data['indicator_name'].unique()"
      ],
      "metadata": {
        "colab": {
          "base_uri": "https://localhost:8080/"
        },
        "id": "4CBhpUNRzkT2",
        "outputId": "e7b2cda6-040e-4516-8d0c-ed58861ffdc3"
      },
      "execution_count": 10,
      "outputs": [
        {
          "output_type": "execute_result",
          "data": {
            "text/plain": [
              "array(['Disbursements on external debt, long-term (DIS, current US$)',\n",
              "       'Interest payments on external debt, long-term (INT, current US$)',\n",
              "       'PPG, bilateral (AMT, current US$)',\n",
              "       'PPG, bilateral (DIS, current US$)',\n",
              "       'PPG, bilateral (INT, current US$)',\n",
              "       'PPG, multilateral (AMT, current US$)',\n",
              "       'PPG, multilateral (DIS, current US$)',\n",
              "       'PPG, multilateral (INT, current US$)',\n",
              "       'PPG, official creditors (AMT, current US$)',\n",
              "       'PPG, official creditors (DIS, current US$)',\n",
              "       'PPG, official creditors (INT, current US$)',\n",
              "       'Principal repayments on external debt, long-term (AMT, current US$)',\n",
              "       'Interest payments on external debt, private nonguaranteed (PNG) (INT, current US$)',\n",
              "       'PPG, bonds (AMT, current US$)', 'PPG, bonds (INT, current US$)',\n",
              "       'PPG, commercial banks (AMT, current US$)',\n",
              "       'PPG, commercial banks (DIS, current US$)',\n",
              "       'PPG, commercial banks (INT, current US$)',\n",
              "       'PPG, other private creditors (AMT, current US$)',\n",
              "       'PPG, other private creditors (DIS, current US$)',\n",
              "       'PPG, other private creditors (INT, current US$)',\n",
              "       'PPG, private creditors (AMT, current US$)',\n",
              "       'PPG, private creditors (DIS, current US$)',\n",
              "       'PPG, private creditors (INT, current US$)',\n",
              "       'Principal repayments on external debt, private nonguaranteed (PNG) (AMT, current US$)'],\n",
              "      dtype=object)"
            ]
          },
          "metadata": {},
          "execution_count": 10
        }
      ]
    },
    {
      "cell_type": "markdown",
      "source": [
        "## Montant total de la dette des pays :"
      ],
      "metadata": {
        "id": "YnnS3mi2z-Ah"
      }
    },
    {
      "cell_type": "code",
      "source": [
        "dette_data.groupby('country_name')['debt'].sum().sort_values(ascending=False)"
      ],
      "metadata": {
        "colab": {
          "base_uri": "https://localhost:8080/",
          "height": 490
        },
        "id": "aohTnqST0Dgk",
        "outputId": "6d21d6bd-714a-485e-983e-1748e0d8facb"
      },
      "execution_count": 12,
      "outputs": [
        {
          "output_type": "execute_result",
          "data": {
            "text/plain": [
              "country_name\n",
              "China                                           2.857935e+11\n",
              "Brazil                                          2.806240e+11\n",
              "South Asia                                      2.476087e+11\n",
              "Least developed countries: UN classification    2.128810e+11\n",
              "Russian Federation                              1.912891e+11\n",
              "                                                    ...     \n",
              "Turkmenistan                                    9.513563e+07\n",
              "Timor-Leste                                     7.100096e+07\n",
              "Comoros                                         5.756848e+07\n",
              "Tonga                                           5.520930e+07\n",
              "Sao Tome and Principe                           4.479803e+07\n",
              "Name: debt, Length: 124, dtype: float64"
            ],
            "text/html": [
              "<div>\n",
              "<style scoped>\n",
              "    .dataframe tbody tr th:only-of-type {\n",
              "        vertical-align: middle;\n",
              "    }\n",
              "\n",
              "    .dataframe tbody tr th {\n",
              "        vertical-align: top;\n",
              "    }\n",
              "\n",
              "    .dataframe thead th {\n",
              "        text-align: right;\n",
              "    }\n",
              "</style>\n",
              "<table border=\"1\" class=\"dataframe\">\n",
              "  <thead>\n",
              "    <tr style=\"text-align: right;\">\n",
              "      <th></th>\n",
              "      <th>debt</th>\n",
              "    </tr>\n",
              "    <tr>\n",
              "      <th>country_name</th>\n",
              "      <th></th>\n",
              "    </tr>\n",
              "  </thead>\n",
              "  <tbody>\n",
              "    <tr>\n",
              "      <th>China</th>\n",
              "      <td>2.857935e+11</td>\n",
              "    </tr>\n",
              "    <tr>\n",
              "      <th>Brazil</th>\n",
              "      <td>2.806240e+11</td>\n",
              "    </tr>\n",
              "    <tr>\n",
              "      <th>South Asia</th>\n",
              "      <td>2.476087e+11</td>\n",
              "    </tr>\n",
              "    <tr>\n",
              "      <th>Least developed countries: UN classification</th>\n",
              "      <td>2.128810e+11</td>\n",
              "    </tr>\n",
              "    <tr>\n",
              "      <th>Russian Federation</th>\n",
              "      <td>1.912891e+11</td>\n",
              "    </tr>\n",
              "    <tr>\n",
              "      <th>...</th>\n",
              "      <td>...</td>\n",
              "    </tr>\n",
              "    <tr>\n",
              "      <th>Turkmenistan</th>\n",
              "      <td>9.513563e+07</td>\n",
              "    </tr>\n",
              "    <tr>\n",
              "      <th>Timor-Leste</th>\n",
              "      <td>7.100096e+07</td>\n",
              "    </tr>\n",
              "    <tr>\n",
              "      <th>Comoros</th>\n",
              "      <td>5.756848e+07</td>\n",
              "    </tr>\n",
              "    <tr>\n",
              "      <th>Tonga</th>\n",
              "      <td>5.520930e+07</td>\n",
              "    </tr>\n",
              "    <tr>\n",
              "      <th>Sao Tome and Principe</th>\n",
              "      <td>4.479803e+07</td>\n",
              "    </tr>\n",
              "  </tbody>\n",
              "</table>\n",
              "<p>124 rows × 1 columns</p>\n",
              "</div><br><label><b>dtype:</b> float64</label>"
            ]
          },
          "metadata": {},
          "execution_count": 12
        }
      ]
    },
    {
      "cell_type": "markdown",
      "source": [
        "10 pays les plus endettés"
      ],
      "metadata": {
        "id": "HXC8qtde1vZA"
      }
    },
    {
      "cell_type": "code",
      "source": [
        "import matplotlib.pyplot as plt"
      ],
      "metadata": {
        "id": "ol51j_wM17xw"
      },
      "execution_count": 14,
      "outputs": []
    },
    {
      "cell_type": "code",
      "source": [
        "top = dette_data.groupby('country_name')['debt'].sum().sort_values(ascending=False).head(10)\n",
        "top.plot(kind='bar', title=\"Top 10 des pays les plus endettés\")\n",
        "plt.ylabel('Montant de la dette ')\n",
        "plt.show()"
      ],
      "metadata": {
        "colab": {
          "base_uri": "https://localhost:8080/",
          "height": 765
        },
        "id": "x2TXqMUt11Ja",
        "outputId": "fb72aea2-37a8-437f-a14c-20a00bb9e810"
      },
      "execution_count": 17,
      "outputs": [
        {
          "output_type": "display_data",
          "data": {
            "text/plain": [
              "<Figure size 640x480 with 1 Axes>"
            ],
            "image/png": "[encoded data removed]"
          },
          "metadata": {}
        }
      ]
    },
    {
      "cell_type": "markdown",
      "source": [
        "## Montant moyen de la dette selon les indicateurs"
      ],
      "metadata": {
        "id": "b4mr-mZZ02mD"
      }
    },
    {
      "cell_type": "code",
      "source": [
        "dette_data.groupby('indicator_name')['debt'].mean().sort_values(ascending=False)"
      ],
      "metadata": {
        "colab": {
          "base_uri": "https://localhost:8080/",
          "height": 899
        },
        "id": "D67A3XhY04f8",
        "outputId": "16271b6e-287d-4dc6-f8b3-08263ca6f13d"
      },
      "execution_count": 18,
      "outputs": [
        {
          "output_type": "execute_result",
          "data": {
            "text/plain": [
              "indicator_name\n",
              "Principal repayments on external debt, long-term (AMT, current US$)                      5.904868e+09\n",
              "Principal repayments on external debt, private nonguaranteed (PNG) (AMT, current US$)    5.161194e+09\n",
              "Disbursements on external debt, long-term (DIS, current US$)                             2.152041e+09\n",
              "PPG, official creditors (DIS, current US$)                                               1.958983e+09\n",
              "PPG, private creditors (AMT, current US$)                                                1.803694e+09\n",
              "Interest payments on external debt, long-term (INT, current US$)                         1.644024e+09\n",
              "PPG, bilateral (DIS, current US$)                                                        1.223139e+09\n",
              "Interest payments on external debt, private nonguaranteed (PNG) (INT, current US$)       1.220411e+09\n",
              "PPG, official creditors (AMT, current US$)                                               1.191188e+09\n",
              "PPG, bonds (AMT, current US$)                                                            1.082624e+09\n",
              "PPG, multilateral (DIS, current US$)                                                     8.398437e+08\n",
              "PPG, bonds (INT, current US$)                                                            8.047334e+08\n",
              "PPG, other private creditors (AMT, current US$)                                          7.468888e+08\n",
              "PPG, commercial banks (AMT, current US$)                                                 7.348687e+08\n",
              "PPG, private creditors (INT, current US$)                                                7.197402e+08\n",
              "PPG, bilateral (AMT, current US$)                                                        7.126196e+08\n",
              "PPG, multilateral (AMT, current US$)                                                     4.900622e+08\n",
              "PPG, private creditors (DIS, current US$)                                                3.113233e+08\n",
              "PPG, official creditors (INT, current US$)                                               2.976773e+08\n",
              "PPG, commercial banks (DIS, current US$)                                                 2.933052e+08\n",
              "PPG, bilateral (INT, current US$)                                                        1.640933e+08\n",
              "PPG, commercial banks (INT, current US$)                                                 1.566476e+08\n",
              "PPG, multilateral (INT, current US$)                                                     1.362307e+08\n",
              "PPG, other private creditors (DIS, current US$)                                          8.113516e+07\n",
              "PPG, other private creditors (INT, current US$)                                          3.425065e+07\n",
              "Name: debt, dtype: float64"
            ],
            "text/html": [
              "<div>\n",
              "<style scoped>\n",
              "    .dataframe tbody tr th:only-of-type {\n",
              "        vertical-align: middle;\n",
              "    }\n",
              "\n",
              "    .dataframe tbody tr th {\n",
              "        vertical-align: top;\n",
              "    }\n",
              "\n",
              "    .dataframe thead th {\n",
              "        text-align: right;\n",
              "    }\n",
              "</style>\n",
              "<table border=\"1\" class=\"dataframe\">\n",
              "  <thead>\n",
              "    <tr style=\"text-align: right;\">\n",
              "      <th></th>\n",
              "      <th>debt</th>\n",
              "    </tr>\n",
              "    <tr>\n",
              "      <th>indicator_name</th>\n",
              "      <th></th>\n",
              "    </tr>\n",
              "  </thead>\n",
              "  <tbody>\n",
              "    <tr>\n",
              "      <th>Principal repayments on external debt, long-term (AMT, current US$)</th>\n",
              "      <td>5.904868e+09</td>\n",
              "    </tr>\n",
              "    <tr>\n",
              "      <th>Principal repayments on external debt, private nonguaranteed (PNG) (AMT, current US$)</th>\n",
              "      <td>5.161194e+09</td>\n",
              "    </tr>\n",
              "    <tr>\n",
              "      <th>Disbursements on external debt, long-term (DIS, current US$)</th>\n",
              "      <td>2.152041e+09</td>\n",
              "    </tr>\n",
              "    <tr>\n",
              "      <th>PPG, official creditors (DIS, current US$)</th>\n",
              "      <td>1.958983e+09</td>\n",
              "    </tr>\n",
              "    <tr>\n",
              "      <th>PPG, private creditors (AMT, current US$)</th>\n",
              "      <td>1.803694e+09</td>\n",
              "    </tr>\n",
              "    <tr>\n",
              "      <th>Interest payments on external debt, long-term (INT, current US$)</th>\n",
              "      <td>1.644024e+09</td>\n",
              "    </tr>\n",
              "    <tr>\n",
              "      <th>PPG, bilateral (DIS, current US$)</th>\n",
              "      <td>1.223139e+09</td>\n",
              "    </tr>\n",
              "    <tr>\n",
              "      <th>Interest payments on external debt, private nonguaranteed (PNG) (INT, current US$)</th>\n",
              "      <td>1.220411e+09</td>\n",
              "    </tr>\n",
              "    <tr>\n",
              "      <th>PPG, official creditors (AMT, current US$)</th>\n",
              "      <td>1.191188e+09</td>\n",
              "    </tr>\n",
              "    <tr>\n",
              "      <th>PPG, bonds (AMT, current US$)</th>\n",
              "      <td>1.082624e+09</td>\n",
              "    </tr>\n",
              "    <tr>\n",
              "      <th>PPG, multilateral (DIS, current US$)</th>\n",
              "      <td>8.398437e+08</td>\n",
              "    </tr>\n",
              "    <tr>\n",
              "      <th>PPG, bonds (INT, current US$)</th>\n",
              "      <td>8.047334e+08</td>\n",
              "    </tr>\n",
              "    <tr>\n",
              "      <th>PPG, other private creditors (AMT, current US$)</th>\n",
              "      <td>7.468888e+08</td>\n",
              "    </tr>\n",
              "    <tr>\n",
              "      <th>PPG, commercial banks (AMT, current US$)</th>\n",
              "      <td>7.348687e+08</td>\n",
              "    </tr>\n",
              "    <tr>\n",
              "      <th>PPG, private creditors (INT, current US$)</th>\n",
              "      <td>7.197402e+08</td>\n",
              "    </tr>\n",
              "    <tr>\n",
              "      <th>PPG, bilateral (AMT, current US$)</th>\n",
              "      <td>7.126196e+08</td>\n",
              "    </tr>\n",
              "    <tr>\n",
              "      <th>PPG, multilateral (AMT, current US$)</th>\n",
              "      <td>4.900622e+08</td>\n",
              "    </tr>\n",
              "    <tr>\n",
              "      <th>PPG, private creditors (DIS, current US$)</th>\n",
              "      <td>3.113233e+08</td>\n",
              "    </tr>\n",
              "    <tr>\n",
              "      <th>PPG, official creditors (INT, current US$)</th>\n",
              "      <td>2.976773e+08</td>\n",
              "    </tr>\n",
              "    <tr>\n",
              "      <th>PPG, commercial banks (DIS, current US$)</th>\n",
              "      <td>2.933052e+08</td>\n",
              "    </tr>\n",
              "    <tr>\n",
              "      <th>PPG, bilateral (INT, current US$)</th>\n",
              "      <td>1.640933e+08</td>\n",
              "    </tr>\n",
              "    <tr>\n",
              "      <th>PPG, commercial banks (INT, current US$)</th>\n",
              "      <td>1.566476e+08</td>\n",
              "    </tr>\n",
              "    <tr>\n",
              "      <th>PPG, multilateral (INT, current US$)</th>\n",
              "      <td>1.362307e+08</td>\n",
              "    </tr>\n",
              "    <tr>\n",
              "      <th>PPG, other private creditors (DIS, current US$)</th>\n",
              "      <td>8.113516e+07</td>\n",
              "    </tr>\n",
              "    <tr>\n",
              "      <th>PPG, other private creditors (INT, current US$)</th>\n",
              "      <td>3.425065e+07</td>\n",
              "    </tr>\n",
              "  </tbody>\n",
              "</table>\n",
              "</div><br><label><b>dtype:</b> float64</label>"
            ]
          },
          "metadata": {},
          "execution_count": 18
        }
      ]
    },
    {
      "cell_type": "code",
      "source": [
        "moyenne_par_indicateur = dette_data.groupby('indicator_name')['debt'].mean().sort_values(ascending=False).head(10)\n",
        "moyenne_par_indicateur.plot(kind='bar', color='orange', title=\"Moyenne de la dette par indicateur\")\n",
        "plt.ylabel('Montant moyen de la dette ')\n",
        "plt.show()\n"
      ],
      "metadata": {
        "colab": {
          "base_uri": "https://localhost:8080/",
          "height": 1000
        },
        "id": "uH8JwW7z2bb-",
        "outputId": "a00c89ee-1471-4052-928e-fa793b550f64"
      },
      "execution_count": 20,
      "outputs": [
        {
          "output_type": "display_data",
          "data": {
            "text/plain": [
              "<Figure size 640x480 with 1 Axes>"
            ],
            "image/png": "[encoded data removed]"
          },
          "metadata": {}
        }
      ]
    }
  ]
}